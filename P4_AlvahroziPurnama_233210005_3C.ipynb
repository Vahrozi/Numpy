{
  "cells": [
    {
      "cell_type": "markdown",
      "metadata": {
        "id": "view-in-github",
        "colab_type": "text"
      },
      "source": [
        "<a href=\"https://colab.research.google.com/github/Vahrozi/Numpy/blob/main/P4_AlvahroziPurnama_233210005_3C.ipynb\" target=\"_parent\"><img src=\"https://colab.research.google.com/assets/colab-badge.svg\" alt=\"Open In Colab\"/></a>"
      ]
    },
    {
      "cell_type": "markdown",
      "source": [
        "Alvahrozi purnama\n",
        "233210005\n",
        "(3C)"
      ],
      "metadata": {
        "id": "eHM50a0l0FMm"
      }
    },
    {
      "cell_type": "code",
      "source": [
        "def linear_search(numbers, target):\n",
        "\n",
        "    for index, number in enumerate(numbers):\n",
        "        if number == target:\n",
        "            return index\n",
        "    return -1\n",
        "\n",
        "numbers = [2,3,3,2,1,0,0,0,5]\n",
        "\n",
        "target = int(input(\"Masukkan angka yang ingin dicari\"))\n",
        "\n",
        "result = linear_search(numbers, target)\n",
        "\n",
        "if result != -1:\n",
        "    print(f\"Angka {target} ditemukan pada indeks {result}.\")\n",
        "else:\n",
        "    print(f\"Angka {target} tidak ditemukan dalam daftar.\")"
      ],
      "metadata": {
        "id": "E8ykcrFvyMc_",
        "outputId": "a6a05ad1-229e-4d96-abee-d3d63197e5b6",
        "colab": {
          "base_uri": "https://localhost:8080/"
        }
      },
      "execution_count": 1,
      "outputs": [
        {
          "output_type": "stream",
          "name": "stdout",
          "text": [
            "Masukkan angka yang ingin dicari1\n",
            "Angka 1 ditemukan pada indeks 4.\n"
          ]
        }
      ]
    },
    {
      "cell_type": "code",
      "source": [
        "def searchNumber(angkaCari, list):\n",
        "  ketemu = False\n",
        "  list.sort()\n",
        "  print('List setelah di sort = ', list)\n",
        "  indexAwal = 0\n",
        "  indexAkhir = len(list)-1\n",
        "  indexTengah = 0\n",
        "\n",
        "  while indexAwal <= indexAkhir and not ketemu:\n",
        "    indexTengah = (indexAwal + indexAkhir) // 2\n",
        "    if list[indexTengah] == angkaCari:\n",
        "      ketemu = True\n",
        "    else:\n",
        "      if angkaCari < list[indexTengah]:\n",
        "        indexAkhir = indexTengah - 1\n",
        "      else:\n",
        "        indexAwal = indexTengah + 1\n",
        "\n",
        "  if ketemu:\n",
        "    print('Angka %s ditemukan pada list pada indeks-%s' % (angkaCari, indexTengah))\n",
        "    return -1\n",
        "\n",
        "listAngka =  [2,3,3,2,1,0,0,0,5]\n",
        "angkaCari =  int(input('Masukkan Angka yang akan dicari? '))\n",
        "print('List sebelum disort = ', listAngka)\n",
        "\n",
        "hasil = searchNumber(angkaCari, listAngka)"
      ],
      "metadata": {
        "id": "g7KQfXRu31rs",
        "outputId": "56ec5785-816e-49eb-bae3-cb1d74245487",
        "colab": {
          "base_uri": "https://localhost:8080/"
        }
      },
      "execution_count": 4,
      "outputs": [
        {
          "output_type": "stream",
          "name": "stdout",
          "text": [
            "Masukkan Angka yang akan dicari? 1\n",
            "List sebelum disort =  [2, 3, 3, 2, 1, 0, 0, 0, 5]\n",
            "List setelah di sort =  [0, 0, 0, 1, 2, 2, 3, 3, 5]\n",
            "Angka 1 ditemukan pada list pada indeks-3\n"
          ]
        }
      ]
    }
  ],
  "metadata": {
    "colab": {
      "name": "Selamat Datang di Colaboratory",
      "toc_visible": true,
      "provenance": [],
      "include_colab_link": true
    },
    "kernelspec": {
      "display_name": "Python 3",
      "name": "python3"
    }
  },
  "nbformat": 4,
  "nbformat_minor": 0
}