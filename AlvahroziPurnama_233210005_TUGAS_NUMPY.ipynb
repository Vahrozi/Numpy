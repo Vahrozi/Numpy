{
 "cells": [
  {
   "cell_type": "markdown",
   "metadata": {},
   "source": [
    "# No 1"
   ]
  },
  {
   "cell_type": "code",
   "execution_count": 8,
   "metadata": {},
   "outputs": [
    {
     "name": "stdout",
     "output_type": "stream",
     "text": [
      "[[ 0 14]\n",
      " [ 0  8]\n",
      " [ 0 12]]\n"
     ]
    }
   ],
   "source": [
    "# Perkalian Matrix\n",
    "# TTL   : 07 April 2003\n",
    "# No Hp : 085830027214\n",
    "\n",
    "import numpy as np\n",
    "\n",
    "A = np.array([[0,7],[0,4],[0,3]])\n",
    "B = np.array([[0,2],[7,2],[1,4]])\n",
    "\n",
    "kali = A * B\n",
    "print(kali)"
   ]
  },
  {
   "cell_type": "markdown",
   "metadata": {},
   "source": [
    "# No 2"
   ]
  },
  {
   "cell_type": "code",
   "execution_count": 9,
   "metadata": {},
   "outputs": [
    {
     "name": "stdout",
     "output_type": "stream",
     "text": [
      "[[ 0  5]\n",
      " [-7  2]\n",
      " [-1 -1]]\n"
     ]
    }
   ],
   "source": [
    "# Pengurangan Matrix\n",
    "\n",
    "import numpy as np\n",
    "\n",
    "A = np.array([[0,7],[0,4],[0,3]])\n",
    "B = np.array([[0,2],[7,2],[1,4]])\n",
    "\n",
    "kurang = A - B\n",
    "print(kurang)"
   ]
  },
  {
   "cell_type": "markdown",
   "metadata": {},
   "source": [
    "# No 3"
   ]
  },
  {
   "cell_type": "code",
   "execution_count": 11,
   "metadata": {},
   "outputs": [
    {
     "name": "stdout",
     "output_type": "stream",
     "text": [
      "[[0 0 0]\n",
      " [7 4 3]]\n",
      "[[0 7 1]\n",
      " [2 2 4]]\n"
     ]
    }
   ],
   "source": [
    "# Transpose Matrix\n",
    "\n",
    "import numpy as np\n",
    "\n",
    "A = np.array([[0,7],[0,4],[0,3]])\n",
    "B = np.array([[0,2],[7,2],[1,4]])\n",
    "\n",
    "transpose_A = np.transpose(A)\n",
    "transpose_B = np.transpose(B)\n",
    "\n",
    "print(transpose_A)\n",
    "print(transpose_B)"
   ]
  },
  {
   "cell_type": "markdown",
   "metadata": {},
   "source": [
    "# No 4"
   ]
  },
  {
   "cell_type": "code",
   "execution_count": 21,
   "metadata": {},
   "outputs": [
    {
     "name": "stdout",
     "output_type": "stream",
     "text": [
      "\n",
      "Invers matrix A :\n",
      "\n",
      "Invers matrix B :\n",
      "[[ 1.         -1.5       ]\n",
      " [ 0.          0.16666667]]\n",
      "[[ 0.          0.14285714]\n",
      " [ 0.25       -0.03571429]]\n"
     ]
    }
   ],
   "source": [
    "# Nilai Invers\n",
    "\n",
    "\n",
    "import numpy as np\n",
    "\n",
    "A = np.array([[1,9],[0,6]])\n",
    "B = np.array([[1,4],[7,0]])\n",
    "\n",
    "\n",
    "invers_A = np.linalg.inv(A)\n",
    "invers_B = np.linalg.inv(B)\n",
    "\n",
    "print(\"\\nInvers matrix A :\")\n",
    "print(\"\\nInvers matrix B :\")\n",
    "print(invers_A)\n",
    "print(invers_B)\n"
   ]
  },
  {
   "cell_type": "markdown",
   "metadata": {},
   "source": [
    "# No 5"
   ]
  },
  {
   "cell_type": "code",
   "execution_count": 24,
   "metadata": {},
   "outputs": [
    {
     "name": "stdout",
     "output_type": "stream",
     "text": [
      "Determinan dari matrix A: 0.0\n",
      "Determinan dari matrix B: -13.999999999999996\n"
     ]
    }
   ],
   "source": [
    "# Nilai Determinan\n",
    "\n",
    "import numpy as np\n",
    "\n",
    "A = np.array([[0,7],[0,4]])\n",
    "B = np.array([[0,2],[7,2]])\n",
    "\n",
    "determinant_A = np.linalg.det(A)\n",
    "determinant_B = np.linalg.det(B)\n",
    "print(\"Determinan dari matrix A:\", determinant_A)\n",
    "print(\"Determinan dari matrix B:\", determinant_B)"
   ]
  }
 ],
 "metadata": {
  "kernelspec": {
   "display_name": "Python 3",
   "language": "python",
   "name": "python3"
  },
  "language_info": {
   "codemirror_mode": {
    "name": "ipython",
    "version": 3
   },
   "file_extension": ".py",
   "mimetype": "text/x-python",
   "name": "python",
   "nbconvert_exporter": "python",
   "pygments_lexer": "ipython3",
   "version": "3.11.9"
  }
 },
 "nbformat": 4,
 "nbformat_minor": 2
}
